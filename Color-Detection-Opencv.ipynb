{
 "cells": [
  {
   "cell_type": "markdown",
   "metadata": {},
   "source": [
    "<div class=\"alert alert-danger\" role=\"alert\">\n",
    "<h1 align=\"center\"><font size = 14>Color-Detection</font></h1>\n",
    "<h4 align=\"center\">September, 09_2024<h4>\n",
    "<h3 align=\"center\">Armin Amani</h3>"
   ]
  },
  {
   "cell_type": "markdown",
   "metadata": {},
   "source": [
    "<div class=\"alert alert-danger\" role=\"alert\">\n",
    "📤 Import Libraries"
   ]
  },
  {
   "cell_type": "code",
   "execution_count": 1,
   "metadata": {},
   "outputs": [],
   "source": [
    "import numpy as np\n",
    "import cv2 as cv"
   ]
  },
  {
   "cell_type": "markdown",
   "metadata": {},
   "source": [
    "<div class=\"alert alert-danger\" role=\"alert\"> \n",
    "🔎 Detection operation"
   ]
  },
  {
   "cell_type": "code",
   "execution_count": 2,
   "metadata": {},
   "outputs": [
    {
     "data": {
      "text/plain": [
       "True"
      ]
     },
     "execution_count": 2,
     "metadata": {},
     "output_type": "execute_result"
    }
   ],
   "source": [
    "# Initialize video webcamture\n",
    "webcam = cv.VideoCapture(0)\n",
    "webcam.set(cv.CAP_PROP_FRAME_WIDTH, 1280)\n",
    "webcam.set(cv.CAP_PROP_FRAME_HEIGHT, 720)"
   ]
  },
  {
   "cell_type": "code",
   "execution_count": 3,
   "metadata": {},
   "outputs": [],
   "source": [
    "def get_color_name(hue, saturation, value):\n",
    "    # Detect black, gray, and white\n",
    "    if value < 40:\n",
    "        return \"Black\"\n",
    "    elif saturation < 40 and value >= 40 and value <= 160:\n",
    "        return \"Gray\"\n",
    "    elif saturation < 40 and value > 160:\n",
    "        return \"White\"\n",
    "    \n",
    "    # Detect colored hues\n",
    "    if 0 <= hue < 5 or 175 <= hue <= 180:\n",
    "        return \"Red\"\n",
    "    elif 5 <= hue < 22:\n",
    "        return \"Orange\"\n",
    "    elif 22 <= hue < 28:\n",
    "        return \"Yellow\"\n",
    "    elif 28 <= hue < 35:\n",
    "        return \"light yellow\"\n",
    "    elif 34 <= hue < 45:\n",
    "        return \"Light Green\"\n",
    "    elif 45 <= hue <= 80:\n",
    "        return \"Green\"\n",
    "    elif 80 <= hue < 95:\n",
    "        return \"Cyan\"\n",
    "    elif 95 <= hue < 105:\n",
    "        return \"Light Blue\"\n",
    "    elif 105 <= hue < 132:\n",
    "        return \"Blue\"\n",
    "    elif 132 <= hue < 145:\n",
    "        return \"Purple\"\n",
    "    elif 145 <= hue < 175:\n",
    "        return \"Pink\"\n",
    "    else:\n",
    "        return \"Undefined\"\n"
   ]
  },
  {
   "cell_type": "code",
   "execution_count": 4,
   "metadata": {},
   "outputs": [],
   "source": [
    "while True:\n",
    "    ret, frame = webcam.read()\n",
    "    if not ret:\n",
    "        break\n",
    "\n",
    "    # Convert frame to HSV color space\n",
    "    hsv_frame = cv.cvtColor(frame, cv.COLOR_BGR2HSV)\n",
    "    height, width, _ = frame.shape\n",
    "\n",
    "    cx = int(width / 2)\n",
    "    cy = int(height / 2)\n",
    "\n",
    "    # Pick pixel value\n",
    "    pixel_center = hsv_frame[cy, cx]\n",
    "    hue_value = pixel_center[0]\n",
    "    saturation_value = pixel_center[1]\n",
    "    value_value = pixel_center[2]\n",
    "\n",
    "    # Get color name based on hue, saturation, and value\n",
    "    color = get_color_name(hue_value, saturation_value, value_value)\n",
    "\n",
    "    # Get BGR values\n",
    "    pixel_center_bgr = frame[cy, cx]\n",
    "    b, g, r = int(pixel_center_bgr[0]), int(pixel_center_bgr[1]), int(pixel_center_bgr[2])\n",
    "\n",
    "    # Draw color text and circle\n",
    "    cv.rectangle(frame, (cx - 220, 10), (cx + 200, 120), (255, 255, 255), -1)1\n",
    "    cv.putText(frame, color, (cx - 200, 100), cv.FONT_HERSHEY_SIMPLEX, 3, (b, g, r), 5)\n",
    "    cv.circle(frame, (cx, cy), 5, (25, 25, 25), 3)\n",
    "\n",
    "    # Show frame\n",
    "    cv.imshow(\"Frame\", frame)\n",
    "    \n",
    "    # Exit on 'ESC' key\n",
    "    key = cv.waitKey(1)\n",
    "    if key == 27:\n",
    "        break\n",
    "\n",
    "# Release resources\n",
    "webcam.release()\n",
    "cv.destroyAllWindows()"
   ]
  },
  {
   "cell_type": "code",
   "execution_count": 5,
   "metadata": {},
   "outputs": [],
   "source": [
    "# Armin Amani"
   ]
  }
 ],
 "metadata": {
  "kernelspec": {
   "display_name": "Python 3",
   "language": "python",
   "name": "python3"
  },
  "language_info": {
   "codemirror_mode": {
    "name": "ipython",
    "version": 3
   },
   "file_extension": ".py",
   "mimetype": "text/x-python",
   "name": "python",
   "nbconvert_exporter": "python",
   "pygments_lexer": "ipython3",
   "version": "3.10.11"
  }
 },
 "nbformat": 4,
 "nbformat_minor": 2
}
